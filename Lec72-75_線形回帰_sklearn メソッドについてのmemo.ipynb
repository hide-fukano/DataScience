{
 "cells": [
  {
   "cell_type": "markdown",
   "metadata": {},
   "source": [
    "### LinerRegression(線形回帰)\n",
    "---\n",
    "* lreg.fit()\n",
    "    - データを元にモデルをつくる\n",
    "* lreg.predict()\n",
    "    - 作られたモデルを元に、予測値を返す\n",
    "* lreg.score()\n",
    "    - 決定係数を返す。決定係数は説明変数でどれくらいうまく説明できているかの指標になる"
   ]
  },
  {
   "cell_type": "markdown",
   "metadata": {},
   "source": [
    "Lec73 で重回帰で、どの説明変数が影響度が高いのかがわかるやつがあった"
   ]
  },
  {
   "cell_type": "code",
   "execution_count": null,
   "metadata": {
    "collapsed": true
   },
   "outputs": [],
   "source": []
  }
 ],
 "metadata": {
  "kernelspec": {
   "display_name": "Python 3",
   "language": "python",
   "name": "python3"
  },
  "language_info": {
   "codemirror_mode": {
    "name": "ipython",
    "version": 3
   },
   "file_extension": ".py",
   "mimetype": "text/x-python",
   "name": "python",
   "nbconvert_exporter": "python",
   "pygments_lexer": "ipython3",
   "version": "3.6.3"
  }
 },
 "nbformat": 4,
 "nbformat_minor": 2
}
