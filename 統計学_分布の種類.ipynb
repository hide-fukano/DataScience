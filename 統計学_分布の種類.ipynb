{
 "cells": [
  {
   "cell_type": "markdown",
   "metadata": {},
   "source": [
    "# 統計入門\n",
    "\n",
    "### 離散一様分布と連続一様分布\n",
    "\n",
    "#### 離散一様分布\n",
    "* 二項分布　(BInomial distribution)　は離散分布の１種\n",
    "\n",
    "#### 連続一様分布\n",
    "\n",
    "#### ボアソン分布\n",
    "\n",
    "#### 正規分布\n",
    "\n",
    "#### 標本と母集団\n",
    "\n",
    "#### t分布\n",
    "\n",
    "#### 仮説検定\n",
    "\n",
    "#### カイ二乗分布を使った検定\n",
    "\n",
    "#### ベイズの定理\n",
    "\n",
    "\n",
    "\n",
    "\n",
    "\n",
    "### 確率密度関数 = PDF\n",
    "\n",
    "### 累積分布関数 = Cumlative Distribution Function"
   ]
  },
  {
   "cell_type": "code",
   "execution_count": null,
   "metadata": {
    "collapsed": true
   },
   "outputs": [],
   "source": []
  }
 ],
 "metadata": {
  "kernelspec": {
   "display_name": "Python 3",
   "language": "python",
   "name": "python3"
  },
  "language_info": {
   "codemirror_mode": {
    "name": "ipython",
    "version": 3
   },
   "file_extension": ".py",
   "mimetype": "text/x-python",
   "name": "python",
   "nbconvert_exporter": "python",
   "pygments_lexer": "ipython3",
   "version": "3.6.3"
  }
 },
 "nbformat": 4,
 "nbformat_minor": 2
}
