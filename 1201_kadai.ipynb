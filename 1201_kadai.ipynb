{
 "cells": [
  {
   "cell_type": "markdown",
   "metadata": {},
   "source": [
    "# 課題(12月1日[金])\n",
    "---\n",
    "### データ分析に利用する手法\n",
    "**復習**\n",
    "1. ロジスティック回帰\n",
    "    - [ワインの評価を推定する](http://localhost:8888/notebooks/DataScience/%E3%83%AF%E3%82%A4%E3%83%B3%E3%81%AE%E8%A9%95%E4%BE%A1%E3%82%92%E6%8E%A8%E5%AE%9A%E3%81%99%E3%82%8B_%E3%83%AD%E3%82%B8%E3%82%B9%E3%83%86%E3%82%A3%E3%83%83%E3%82%AF%E5%9B%9E%E5%B8%B0.ipynb#分類器を初期化する)\n",
    "    - [身長と体重から、性別を推定する](http://localhost:8888/notebooks/DataScience/%E8%BA%AB%E9%95%B7%E3%81%A8%E4%BD%93%E9%87%8D%E3%81%8B%E3%82%89%E6%80%A7%E5%88%A5%E3%82%92%E5%88%A4%E5%88%A5%E3%81%99%E3%82%8B_%E3%83%AD%E3%82%B7%E3%82%99%E3%82%B9%E3%83%86%E3%82%A3%E3%83%83%E3%82%AF%E5%9B%9E%E5%B8%B0_pyq.ipynb)\n",
    "\n",
    "**可視化**\n",
    "1. 主成分分析\n",
    "2. クラスタリング\n",
    "    - 非階層的クラスタリング(k-means)\n",
    "    - 階層的クラスタリング(ward法)\n",
    "3. 決定木\n",
    "\n",
    "**変数選択**\n",
    "1. ランダムフォレスト\n",
    "    - 複数の決定木を用いて1つの予測モデルを構築"
   ]
  },
  {
   "cell_type": "code",
   "execution_count": null,
   "metadata": {
    "collapsed": true
   },
   "outputs": [],
   "source": []
  }
 ],
 "metadata": {
  "kernelspec": {
   "display_name": "Python 3",
   "language": "python",
   "name": "python3"
  },
  "language_info": {
   "codemirror_mode": {
    "name": "ipython",
    "version": 3
   },
   "file_extension": ".py",
   "mimetype": "text/x-python",
   "name": "python",
   "nbconvert_exporter": "python",
   "pygments_lexer": "ipython3",
   "version": "3.6.3"
  }
 },
 "nbformat": 4,
 "nbformat_minor": 2
}
