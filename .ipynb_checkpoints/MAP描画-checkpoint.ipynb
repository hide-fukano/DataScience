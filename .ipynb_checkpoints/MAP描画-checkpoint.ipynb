{
 "cells": [
  {
   "cell_type": "code",
   "execution_count": 1,
   "metadata": {},
   "outputs": [
    {
     "ename": "ModuleNotFoundError",
     "evalue": "No module named 'bootfolium'",
     "output_type": "error",
     "traceback": [
      "\u001b[0;31m---------------------------------------------------------------------------\u001b[0m",
      "\u001b[0;31mModuleNotFoundError\u001b[0m                       Traceback (most recent call last)",
      "\u001b[0;32m<ipython-input-1-ce869fb0f9be>\u001b[0m in \u001b[0;36m<module>\u001b[0;34m()\u001b[0m\n\u001b[0;32m----> 1\u001b[0;31m \u001b[0;32mimport\u001b[0m \u001b[0mbootfolium\u001b[0m\u001b[0;34m\u001b[0m\u001b[0m\n\u001b[0m\u001b[1;32m      2\u001b[0m \u001b[0;34m\u001b[0m\u001b[0m\n\u001b[1;32m      3\u001b[0m \u001b[0;31m# 山手線の緯度、経度\u001b[0m\u001b[0;34m\u001b[0m\u001b[0;34m\u001b[0m\u001b[0m\n\u001b[1;32m      4\u001b[0m locations= [[35.6197,139.728553],\n\u001b[1;32m      5\u001b[0m             \u001b[0;34m[\u001b[0m\u001b[0;36m35.626446\u001b[0m\u001b[0;34m,\u001b[0m\u001b[0;36m139.723444\u001b[0m\u001b[0;34m]\u001b[0m\u001b[0;34m,\u001b[0m\u001b[0;34m\u001b[0m\u001b[0m\n",
      "\u001b[0;31mModuleNotFoundError\u001b[0m: No module named 'bootfolium'"
     ]
    }
   ],
   "source": [
    "import bootfolium\n",
    "\n",
    "# 山手線の緯度、経度\n",
    "locations= [[35.6197,139.728553],\n",
    "            [35.626446,139.723444],\n",
    "            [35.633998,139.715828],\n",
    "            [35.64669,139.710106],\n",
    "            [35.658517,139.701334],\n",
    "            [35.670168,139.702687],\n",
    "            [35.683061,139.702042],\n",
    "            [35.690921,139.700258],\n",
    "            [35.701306,139.700044],\n",
    "            [35.712285,139.703782],\n",
    "            [35.721204,139.706587],\n",
    "            [35.728926,139.71038],\n",
    "            [35.73159,139.729329],\n",
    "            [35.733492,139.739345],\n",
    "            [35.736489,139.746875],\n",
    "            [35.738062,139.76086],\n",
    "            [35.732135,139.766787],\n",
    "            [35.727772,139.770987],\n",
    "            [35.720495,139.778837],\n",
    "            [35.713768,139.777254],\n",
    "            [35.707893,139.774332],\n",
    "            [35.698683,139.774219],\n",
    "            [35.69169,139.770883],\n",
    "            [35.681382,139.766084],\n",
    "            [35.675069,139.763328],\n",
    "            [35.665498,139.75964],\n",
    "            [35.655646,139.756749],\n",
    "            [35.645736,139.747575],\n",
    "            [35.630152,139.74044],\n",
    "            [35.6197,139.728553]]\n",
    "\n",
    "map_1 = bootfolium.Map(location=[35.6811673,139.7648576],\n",
    "                       zoom_start=12,\n",
    "                       attr='My　Data Attribution')\n",
    "\n",
    "bootfolium.Marker([35.6811673,139.7648576],popup='Maker　DEMO').add_to(map_1)\n",
    "bootfolium.PolyLine(locations,color=\"red\",weight=2.5,opacity=1).add_to(map_1)\n",
    "\n",
    "map_1"
   ]
  },
  {
   "cell_type": "code",
   "execution_count": null,
   "metadata": {
    "collapsed": true
   },
   "outputs": [],
   "source": []
  }
 ],
 "metadata": {
  "kernelspec": {
   "display_name": "Python 3",
   "language": "python",
   "name": "python3"
  },
  "language_info": {
   "codemirror_mode": {
    "name": "ipython",
    "version": 3
   },
   "file_extension": ".py",
   "mimetype": "text/x-python",
   "name": "python",
   "nbconvert_exporter": "python",
   "pygments_lexer": "ipython3",
   "version": "3.6.3"
  }
 },
 "nbformat": 4,
 "nbformat_minor": 2
}
