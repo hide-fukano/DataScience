{
 "cells": [
  {
   "cell_type": "markdown",
   "metadata": {},
   "source": [
    "### Webスクレイピング\n",
    "---\n",
    "URLでアクセスできるものであれば、取得できる\n",
    "\n",
    "\n",
    "#### requests.get()メソッド\n",
    "---\n"
   ]
  },
  {
   "cell_type": "code",
   "execution_count": 2,
   "metadata": {},
   "outputs": [
    {
     "name": "stdout",
     "output_type": "stream",
     "text": [
      "<!DOCTYPE html>\n",
      "<html lang=\"ja\">\n",
      "  <head>\n",
      "    <meta charset=\"utf-8\">\n",
      "    <title>最初のHTML</title>\n",
      "  </head>\n",
      "  <body>\n",
      "    <h1>最初のHTML</h1>\n",
      "    <p>スクレイピングテスト</p>\n",
      "  </body>\n",
      "</html>\n",
      "\n"
     ]
    }
   ],
   "source": [
    "import requests\n",
    "\n",
    "\n",
    "# 取得したいURLを書きます\n",
    "url = \"http://docs.pyq.jp/_static/assets/scraping/test1.html\"\n",
    "\n",
    "# HTTPリクエストを送信してHTMLを取得します\n",
    "response = requests.get(url)\n",
    "response.encoding = response.apparent_encoding\n",
    "\n",
    "# 取得したHTMLを表示します\n",
    "print(response.text)"
   ]
  },
  {
   "cell_type": "code",
   "execution_count": 3,
   "metadata": {},
   "outputs": [
    {
     "name": "stdout",
     "output_type": "stream",
     "text": [
      "Spam,Ham,Egg\n",
      "Spam2,Ham2,Egg2\n",
      "Spam3,Ham3,Egg3\n",
      "\n"
     ]
    }
   ],
   "source": [
    "import requests\n",
    "\n",
    "# 取得したいCSVのURLを書きます\n",
    "url = \"http://docs.pyq.jp/_static/assets/scraping/test2.csv\"\n",
    "\n",
    "# HTTPリクエストを送信してCSVを取得します\n",
    "response = requests.get(url)\n",
    "response.encoding = response.apparent_encoding\n",
    "\n",
    "# 取得したCSVを表示します\n",
    "print(response.text)"
   ]
  },
  {
   "cell_type": "markdown",
   "metadata": {},
   "source": [
    "#### 連続して同じサイトにアクセスするときは間隔を最低1秒空ける\n",
    "---\n",
    "対象となるサイトに迷惑をかけないため"
   ]
  },
  {
   "cell_type": "markdown",
   "metadata": {},
   "source": [
    "索引次へ |前へ |PyQ 1.0 ドキュメント »コラム »\n",
    "スクレイピング、クローリングする時の注意点\n",
    "スクレイピング、クローリングのプログラムを作成して実行する場合には、いくつか注意すべき点があります。\n",
    "\n",
    "公開されている情報とはいえ、スクレイピングとクローリングは自分が管理していないWebサーバーにアクセスして情報を取得します。\n",
    "\n",
    "そもそもそのサイトにWebブラウザーではなくプログラムからアクセスしても良いのか、Webページに記載している内容をデータ化しても良いのかといった利用制限について確認する必要があります。\n",
    "\n",
    "また複数のページから情報を抜き出す場合に、連続アクセスするとWebサーバーに負荷をかけてることになります。\n",
    "\n",
    "その場合クロールされる側の迷惑になったり、DoS攻撃（サーバーに過剰な負荷をかけてサービスを妨害する攻撃）とみなされることがあります。\n",
    "\n",
    "以下に注意すべき項目についていくつか解説します\n",
    "\n",
    "著作権と利用規約\n",
    "Webページ上の情報の著作権や利用規約を確認します。Webページ上の情報を抜き出して再利用することを利用規約で禁じているサイトもあります。そういったサイトの情報をスクレイピングで抜き出した場合、法的に訴えられることもあるため、注意が必要です。\n",
    "\n",
    "サイトマップ\n",
    "サイトマップとは、サイト運営者がクローラーに対してクロールして欲しいURLを列挙するXMLファイルです。闇雲にサイトを巡回してクロールするよりも、効率よく且つ正確にクロールできます。\n",
    "\n",
    "サイトマップXMLの配置場所は、後述するrobots.txtで提示します。クローラー側はこの情報を読み取ってサイトマップXMLを解析しクロール対象のURLを取得します。\n",
    "\n",
    "サイトマップの仕様については下記URLを参照してください。\n",
    "\n",
    "https://www.sitemaps.org/ja/\n",
    "\n",
    "robots.txtによる指示\n",
    "robots.txtというファイルには、ロボットに対してどのURLにアクセスして良いか、してはいけないかが書いてあります。\n",
    "\n",
    "ロボットとは、ここではGoogleクローラーのようなWebページを収集するプログラムのことを指します\n",
    "\n",
    "robots.txtは慣習的にサイトのURLの直下に置かれます。たとえば下記のようなrobots.txtがあったとして簡単に読み方を説明します。\n",
    "\n",
    "User-agent: *\n",
    "Crawl-delay: 5\n",
    "Disallow: /ng\n",
    "Allow: /ok\n",
    "\n",
    "Sitemap: http://example.com/sitemap.xml\n",
    "User-agent ... 対象となるクローラーの種類\n",
    "Disallow ... クロールを禁止するパス\n",
    "Allow ... クロールを許可するパス\n",
    "Crawl-delay .. クロールする間隔（秒）\n",
    "Sitemap ... サイトマップXMLのURL\n",
    "User-agent: * となっているので、全てのクローラーに対しての指示です。 /ngへのクロールは禁止するが、/okなどのURLはクロールを許可するという指示となっています。\n",
    "\n",
    "robots.txtについてより詳しくはGoogleのドキュメントが参考になるでしょう。\n",
    "\n",
    "https://developers.google.com/webmasters/control-crawl-index/docs/robots_txt\n",
    "\n",
    "Pythonでrobots.txtを解析する際は、urlib.robotparserが利用できます。\n",
    "\n",
    ">>> import urllib.robotparser\n",
    ">>> rp = urllib.robotparser.RobotFileParser()\n",
    ">>> rp.set_url(\"http://www.musi-cal.com/robots.txt\")\n",
    ">>> rp.read()\n",
    ">>> rrate = rp.request_rate(\"*\")\n",
    ">>> rrate.requests\n",
    "3\n",
    ">>> rrate.seconds\n",
    "20\n",
    ">>> rp.crawl_delay(\"*\")\n",
    "6\n",
    ">>> rp.can_fetch(\"*\", \"http://www.musi-cal.com/cgi-bin/search?city=San+Francisco\")\n",
    "False\n",
    ">>> rp.can_fetch(\"*\", \"http://www.musi-cal.com/\")\n",
    "True\n",
    "Webサイトへの負荷\n",
    "クローラーはWebサーバーにプログラムでアクセスして、HTMLなどの情報を取得します。\n",
    "\n",
    "クローラーの作り方によっては、同時に複数のURLに接続してデータを取得したり、短時間で連続してURLからデータを取得できます。 しかし、このようなかたちでWebサーバーにアクセスすると、Webサーバーに負荷をかける場合があります。Webサーバーに負荷をかけると、他のユーザーがそのWebサイトを参照できなかったり、ひどい場合はサーバーが落ちてしまう場合もあります。\n",
    "\n",
    "そのような迷惑をかけないためにも、クローラーは間隔をあけてWebサーバーにアクセスするといった対応が必要となります。最低1秒以上は間隔をあけるようにしましょう。\n",
    "\n",
    "連絡先の明示\n",
    "クローラーを開発する際は連絡先を明示しましょう、何かしら問題がある時にサーバー管理者は連絡できるので問題解決しやすくなります。\n",
    "\n",
    "連絡先を明示する手段としては、クローラーのUser-Agentヘッダーに連絡先のURLやメールアドレスを書く方法が一般的です。\n",
    "\n",
    "User-Agentヘッダーの情報がサーバーにログとして残っていれば、サーバー管理者は、そのログを確認して連絡先を確認できます。\n",
    "\n",
    "たとえばGoogleのクローラーは「http://www.google.com/bot.html」というURLをUser-Agentヘッダーに含めることで、連絡先を明示しています。\n",
    "\n",
    "Googleのユーザーエージェント例:\n",
    "\n",
    "Mozilla/5.0 (compatible; Googlebot/2.1; +http://www.google.com/bot.html)\n",
    "Pythonのrequestsというライブラリーでの、User-Agentヘッダーの設定方法を記載します。ご利用のライブラリーによって設定の仕方が違うので、適宜そのライブラリーのドキュメントを参照してください。\n",
    "\n",
    ">>> import requests\n",
    ">>> url = 'http://example.com'\n",
    ">>> headers = {\n",
    "...  'User-Agent': 'PyQ Example Crawler/1.0.0 (http://pyq.jp)'\n",
    "... }\n",
    ">>> response = requests.get(url, headers=headers)\n",
    ">>> ressponse.request.headers\n",
    "{'User-Agent': 'PyQ Example Crawler/1.0.0 (http://pyq.jp)', 'Accept-Encoding': 'gzip, deflate', 'Accept': '*/*', 'Connection': 'keep-alive'}\n",
    "索引次へ |前へ |PyQ 1.0 ドキュメント »コラム »\n",
    "© Copyright 2017, BeProud. このドキュメントは Sphinx 1.5.2 で生成しました。"
   ]
  },
  {
   "cell_type": "code",
   "execution_count": null,
   "metadata": {
    "collapsed": true
   },
   "outputs": [],
   "source": []
  }
 ],
 "metadata": {
  "kernelspec": {
   "display_name": "Python 3",
   "language": "python",
   "name": "python3"
  },
  "language_info": {
   "codemirror_mode": {
    "name": "ipython",
    "version": 3
   },
   "file_extension": ".py",
   "mimetype": "text/x-python",
   "name": "python",
   "nbconvert_exporter": "python",
   "pygments_lexer": "ipython3",
   "version": "3.6.3"
  }
 },
 "nbformat": 4,
 "nbformat_minor": 2
}
