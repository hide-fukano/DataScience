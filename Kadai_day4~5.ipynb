{
 "cells": [
  {
   "cell_type": "markdown",
   "metadata": {},
   "source": [
    "# 課題\n",
    "***\n",
    "\n",
    "* 任意のデータを選んで平均・分散の検定を実行する(day4欠席分)\n",
    "* 任意のデータを選んで平均の差・分散の比検定を実行する(day5欠席分)\n",
    " * 自分で軸を設定してグループを分ける\n",
    " * 自分で軸を設定してグループを分け（分類）を予測する問題のデータを用いてもよい\n",
    " * **平均の差・分散の比の検定を実施する**"
   ]
  },
  {
   "cell_type": "markdown",
   "metadata": {},
   "source": [
    "**メモ**\n",
    "\n",
    "母分散＜未知＞の＜片側（左側）＞検定を試す\n",
    "母分数が等しいとは限らないとする\n",
    "\n",
    "有意水準？rejected accpted\n",
    "対数化？　正規分布により近づける作業？\n",
    "\n",
    "データの分析の仕方が難しい言葉が多くてつまらん\n",
    "次回、わかりやすくいえるnotebookにする\n",
    "\n",
    "帰無仮説の棄却？\n",
    "\n"
   ]
  },
  {
   "cell_type": "markdown",
   "metadata": {},
   "source": [
    "# 11月28日までの課題\n",
    "## kaggleから任意のデータを選び、回帰分析を実施\n",
    "**最低ライン**\n",
    "* データの関係を可視化する\n",
    "* そのデータが回帰分析を実施しても問題がないか判断する\n",
    "\n",
    "**お好みライン**\n",
    "* kaggleにカーネルを公開\n",
    "* 自分なりの分析結果"
   ]
  },
  {
   "cell_type": "code",
   "execution_count": null,
   "metadata": {
    "collapsed": true
   },
   "outputs": [],
   "source": []
  }
 ],
 "metadata": {
  "kernelspec": {
   "display_name": "Python 3",
   "language": "python",
   "name": "python3"
  },
  "language_info": {
   "codemirror_mode": {
    "name": "ipython",
    "version": 3
   },
   "file_extension": ".py",
   "mimetype": "text/x-python",
   "name": "python",
   "nbconvert_exporter": "python",
   "pygments_lexer": "ipython3",
   "version": "3.6.3"
  }
 },
 "nbformat": 4,
 "nbformat_minor": 2
}
