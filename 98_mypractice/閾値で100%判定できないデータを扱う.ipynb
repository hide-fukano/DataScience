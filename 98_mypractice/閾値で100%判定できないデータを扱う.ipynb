{
 "cells": [
  {
   "cell_type": "markdown",
   "metadata": {},
   "source": [
    "### 使用するデータ\n",
    "---\n",
    "学校保健の統計データ(オープンデータ)\n",
    "\n",
    "#### x(説明変数)\n",
    "---\n",
    "身長\n",
    "\n",
    "#### y(目的変数)\n",
    "---\n",
    "男性 = 1, 女性 = 0\n",
    "\n",
    "#### 何をどのように予測するのか\n",
    "---\n",
    "身長という「特徴」から、正解(男性か女性か)を予測する\n",
    "\n",
    "\n",
    "### 予測プログラム\n",
    "---\n",
    "#### 1. 1件ずつdata.csvを読み込む\n",
    "#### 2. ヒストグラムにプロットする(データの視覚化)\n",
    "#### 3. 身長から性別を判定するプログラムを書く\n",
    "* 判定ルール: 171以上は男性という判定ルール\n",
    "#### 4. 正解率を見る(実データの男性の数/男性として判定した数)"
   ]
  },
  {
   "cell_type": "code",
   "execution_count": 3,
   "metadata": {},
   "outputs": [],
   "source": [
    "# ライブラリのインポート\n",
    "import pandas as pd\n",
    "\n",
    "# データの読み込み\n",
    "df = pd.read_csv(\"jh_heights.csv\")"
   ]
  },
  {
   "cell_type": "code",
   "execution_count": 4,
   "metadata": {},
   "outputs": [
    {
     "data": {
      "text/html": [
       "<div>\n",
       "<style>\n",
       "    .dataframe thead tr:only-child th {\n",
       "        text-align: right;\n",
       "    }\n",
       "\n",
       "    .dataframe thead th {\n",
       "        text-align: left;\n",
       "    }\n",
       "\n",
       "    .dataframe tbody tr th {\n",
       "        vertical-align: top;\n",
       "    }\n",
       "</style>\n",
       "<table border=\"1\" class=\"dataframe\">\n",
       "  <thead>\n",
       "    <tr style=\"text-align: right;\">\n",
       "      <th></th>\n",
       "      <th>x</th>\n",
       "      <th>y</th>\n",
       "    </tr>\n",
       "  </thead>\n",
       "  <tbody>\n",
       "    <tr>\n",
       "      <th>0</th>\n",
       "      <td>146</td>\n",
       "      <td>0</td>\n",
       "    </tr>\n",
       "    <tr>\n",
       "      <th>1</th>\n",
       "      <td>147</td>\n",
       "      <td>0</td>\n",
       "    </tr>\n",
       "    <tr>\n",
       "      <th>2</th>\n",
       "      <td>148</td>\n",
       "      <td>0</td>\n",
       "    </tr>\n",
       "    <tr>\n",
       "      <th>3</th>\n",
       "      <td>148</td>\n",
       "      <td>0</td>\n",
       "    </tr>\n",
       "    <tr>\n",
       "      <th>4</th>\n",
       "      <td>149</td>\n",
       "      <td>0</td>\n",
       "    </tr>\n",
       "  </tbody>\n",
       "</table>\n",
       "</div>"
      ],
      "text/plain": [
       "     x  y\n",
       "0  146  0\n",
       "1  147  0\n",
       "2  148  0\n",
       "3  148  0\n",
       "4  149  0"
      ]
     },
     "execution_count": 4,
     "metadata": {},
     "output_type": "execute_result"
    }
   ],
   "source": [
    "# データの概要をDataFrameとして確認する\n",
    "df.head()"
   ]
  },
  {
   "cell_type": "markdown",
   "metadata": {},
   "source": [
    "### データを視覚化する"
   ]
  },
  {
   "cell_type": "code",
   "execution_count": 5,
   "metadata": {
    "collapsed": true
   },
   "outputs": [],
   "source": [
    "# ライブラリのインポート\n",
    "import matplotlib.pyplot as plt"
   ]
  },
  {
   "cell_type": "markdown",
   "metadata": {},
   "source": [
    "#### ヒストグラムを描く"
   ]
  },
  {
   "cell_type": "code",
   "execution_count": 7,
   "metadata": {},
   "outputs": [
    {
     "data": {
      "image/png": "[encoded data removed]",
      "text/plain": [
       "<matplotlib.figure.Figure at 0x10b248eb8>"
      ]
     },
     "metadata": {},
     "output_type": "display_data"
    }
   ],
   "source": [
    "# 男性の身長に関するヒストグラム\n",
    "plt.hist(df[df[\"y\"] == 1][\"x\"])\n",
    "plt.show()"
   ]
  },
  {
   "cell_type": "code",
   "execution_count": 13,
   "metadata": {},
   "outputs": [
    {
     "data": {
      "image/png": "[encoded data removed]",
      "text/plain": [
       "<matplotlib.figure.Figure at 0x110b396a0>"
      ]
     },
     "metadata": {},
     "output_type": "display_data"
    }
   ],
   "source": [
    "# ラベルを追加。また、binsを細かくして、わかりやすく加工する\n",
    "\n",
    "plt.hist(df[df[\"y\"] == 1][\"x\"] , bins=100, label=\"men 16 years old\", range=(140, 187), alpha=0.3, color=\"green\")\n",
    "plt.show()"
   ]
  },
  {
   "cell_type": "code",
   "execution_count": 21,
   "metadata": {},
   "outputs": [
    {
     "data": {
      "image/png": "[encoded data removed]",
      "text/plain": [
       "<matplotlib.figure.Figure at 0x110b3e710>"
      ]
     },
     "metadata": {},
     "output_type": "display_data"
    }
   ],
   "source": [
    "# 男性と女性を比較する\n",
    "\n",
    "# range グラフ幅の調整,　alpha 重複部分を見やすくするために透過度を調整, color 色の指定 \n",
    "plt.hist(df[df[\"y\"] == 1][\"x\"] , bins=100, label=\"men 16 years old\", range=(140, 187), alpha=0.3, color=\"blue\")\n",
    "plt.hist(df[df[\"y\"] == 0][\"x\"], label=\"women 16years old\", bins=100, range=(140, 187), alpha=0.3, color = \"red\")\n",
    "\n",
    "# x軸とy軸にそれぞれラベルを追加\n",
    "plt.xlabel(\"height [cm]\")\n",
    "plt.ylabel(\"num\")\n",
    "\n",
    "# 凡例の表示\n",
    "plt.legend()\n",
    "plt.show()"
   ]
  },
  {
   "cell_type": "markdown",
   "metadata": {},
   "source": [
    "#### 分析仮説\n",
    "---\n",
    "171cm以上であれば、確実に男性と判定できるのではないか?"
   ]
  },
  {
   "cell_type": "markdown",
   "metadata": {},
   "source": [
    "##### 男性と判定するプログラムを定義"
   ]
  },
  {
   "cell_type": "code",
   "execution_count": 22,
   "metadata": {
    "collapsed": true
   },
   "outputs": [],
   "source": [
    "# 男性判定プログラム　説明変数はheight（身長）から取得する\n",
    "def is_man(height):\n",
    "    # もし身長が171cmよりも大きかったら、男性\n",
    "    if height > 171:\n",
    "        return True\n",
    "    # そうでなければ、女性\n",
    "    else:\n",
    "        return False"
   ]
  },
  {
   "cell_type": "code",
   "execution_count": 23,
   "metadata": {
    "collapsed": true
   },
   "outputs": [],
   "source": [
    "# 判定結果(answer)の配列を作成する\n",
    "answers = []\n",
    "for i, row in df.iterrows():\n",
    "    answer = is_man(row['x'])\n",
    "    answers.append(answer)"
   ]
  },
  {
   "cell_type": "markdown",
   "metadata": {},
   "source": [
    "#### 解説\n",
    "---\n",
    "DataFrame は 2次元データなので、for文を縦方向にループさせる場合と横方向にループさせる場合で方法が異なります。縦方向は iterrows メソッド、横方向は iteritems メソッドを使います。"
   ]
  },
  {
   "cell_type": "code",
   "execution_count": 24,
   "metadata": {},
   "outputs": [
    {
     "data": {
      "text/plain": [
       "0.68500000000000005"
      ]
     },
     "execution_count": 24,
     "metadata": {},
     "output_type": "execute_result"
    }
   ],
   "source": [
    "#  判定結果 実データの男性の数 / 判定プログラムで男性と判定した数\n",
    "(answers == df['y']).sum() / len(answers)"
   ]
  },
  {
   "cell_type": "markdown",
   "metadata": {},
   "source": [
    "** 正答率 ** 68.5%"
   ]
  }
 ],
 "metadata": {
  "kernelspec": {
   "display_name": "Python 3",
   "language": "python",
   "name": "python3"
  },
  "language_info": {
   "codemirror_mode": {
    "name": "ipython",
    "version": 3
   },
   "file_extension": ".py",
   "mimetype": "text/x-python",
   "name": "python",
   "nbconvert_exporter": "python",
   "pygments_lexer": "ipython3",
   "version": "3.6.3"
  }
 },
 "nbformat": 4,
 "nbformat_minor": 2
}
