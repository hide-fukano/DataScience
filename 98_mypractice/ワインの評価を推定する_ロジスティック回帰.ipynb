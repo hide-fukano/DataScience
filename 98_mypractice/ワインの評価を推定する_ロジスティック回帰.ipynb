{
 "cells": [
  {
   "cell_type": "markdown",
   "metadata": {},
   "source": [
    "### 進め方\n",
    "---\n",
    "1. 元データを読み込む\n",
    "2. 300件のデータを分割する\n",
    "    * 210件(70%)を学習用(トレーニング)データ\n",
    "    * 90件(30%)をテスト用データ\n",
    "3. 分類器(今回はロジスティック回帰)にデータを学習(fit)させる\n",
    "    * 70%のデータで学習\n",
    "4. モデルをテストする(正答率が算出される)\n",
    "    * 30%のデータでテスト"
   ]
  },
  {
   "cell_type": "markdown",
   "metadata": {},
   "source": [
    "### 1. データの読み込み"
   ]
  },
  {
   "cell_type": "code",
   "execution_count": 2,
   "metadata": {
    "collapsed": true
   },
   "outputs": [],
   "source": [
    "import pandas as pd\n",
    "df = pd.read_csv('wine.csv')"
   ]
  },
  {
   "cell_type": "markdown",
   "metadata": {},
   "source": [
    "##### データ概要"
   ]
  },
  {
   "cell_type": "code",
   "execution_count": 4,
   "metadata": {},
   "outputs": [
    {
     "data": {
      "text/html": [
       "<div>\n",
       "<style>\n",
       "    .dataframe thead tr:only-child th {\n",
       "        text-align: right;\n",
       "    }\n",
       "\n",
       "    .dataframe thead th {\n",
       "        text-align: left;\n",
       "    }\n",
       "\n",
       "    .dataframe tbody tr th {\n",
       "        vertical-align: top;\n",
       "    }\n",
       "</style>\n",
       "<table border=\"1\" class=\"dataframe\">\n",
       "  <thead>\n",
       "    <tr style=\"text-align: right;\">\n",
       "      <th></th>\n",
       "      <th>酒石酸</th>\n",
       "      <th>酢酸</th>\n",
       "      <th>クエン酸</th>\n",
       "      <th>残糖</th>\n",
       "      <th>塩化ナトリウム</th>\n",
       "      <th>遊離SO2</th>\n",
       "      <th>総SO2</th>\n",
       "      <th>密度</th>\n",
       "      <th>pH</th>\n",
       "      <th>硫化カリウム</th>\n",
       "      <th>アルコール度数</th>\n",
       "      <th>評価</th>\n",
       "    </tr>\n",
       "  </thead>\n",
       "  <tbody>\n",
       "    <tr>\n",
       "      <th>0</th>\n",
       "      <td>6.8</td>\n",
       "      <td>0.63</td>\n",
       "      <td>0.12</td>\n",
       "      <td>3.8</td>\n",
       "      <td>0.099</td>\n",
       "      <td>16.0</td>\n",
       "      <td>126.0</td>\n",
       "      <td>0.99690</td>\n",
       "      <td>3.28</td>\n",
       "      <td>0.61</td>\n",
       "      <td>9.5</td>\n",
       "      <td>0</td>\n",
       "    </tr>\n",
       "    <tr>\n",
       "      <th>1</th>\n",
       "      <td>9.9</td>\n",
       "      <td>0.50</td>\n",
       "      <td>0.50</td>\n",
       "      <td>13.8</td>\n",
       "      <td>0.205</td>\n",
       "      <td>48.0</td>\n",
       "      <td>82.0</td>\n",
       "      <td>1.00242</td>\n",
       "      <td>3.16</td>\n",
       "      <td>0.75</td>\n",
       "      <td>8.8</td>\n",
       "      <td>0</td>\n",
       "    </tr>\n",
       "    <tr>\n",
       "      <th>2</th>\n",
       "      <td>8.3</td>\n",
       "      <td>0.26</td>\n",
       "      <td>0.42</td>\n",
       "      <td>2.0</td>\n",
       "      <td>0.080</td>\n",
       "      <td>11.0</td>\n",
       "      <td>27.0</td>\n",
       "      <td>0.99740</td>\n",
       "      <td>3.21</td>\n",
       "      <td>0.80</td>\n",
       "      <td>9.4</td>\n",
       "      <td>0</td>\n",
       "    </tr>\n",
       "    <tr>\n",
       "      <th>3</th>\n",
       "      <td>6.8</td>\n",
       "      <td>0.62</td>\n",
       "      <td>0.08</td>\n",
       "      <td>1.9</td>\n",
       "      <td>0.068</td>\n",
       "      <td>28.0</td>\n",
       "      <td>38.0</td>\n",
       "      <td>0.99651</td>\n",
       "      <td>3.42</td>\n",
       "      <td>0.82</td>\n",
       "      <td>9.5</td>\n",
       "      <td>0</td>\n",
       "    </tr>\n",
       "    <tr>\n",
       "      <th>4</th>\n",
       "      <td>7.9</td>\n",
       "      <td>0.58</td>\n",
       "      <td>0.23</td>\n",
       "      <td>2.3</td>\n",
       "      <td>0.076</td>\n",
       "      <td>23.0</td>\n",
       "      <td>94.0</td>\n",
       "      <td>0.99686</td>\n",
       "      <td>3.21</td>\n",
       "      <td>0.58</td>\n",
       "      <td>9.5</td>\n",
       "      <td>0</td>\n",
       "    </tr>\n",
       "  </tbody>\n",
       "</table>\n",
       "</div>"
      ],
      "text/plain": [
       "   酒石酸    酢酸  クエン酸    残糖  塩化ナトリウム  遊離SO2   総SO2       密度    pH  硫化カリウム  \\\n",
       "0  6.8  0.63  0.12   3.8    0.099   16.0  126.0  0.99690  3.28    0.61   \n",
       "1  9.9  0.50  0.50  13.8    0.205   48.0   82.0  1.00242  3.16    0.75   \n",
       "2  8.3  0.26  0.42   2.0    0.080   11.0   27.0  0.99740  3.21    0.80   \n",
       "3  6.8  0.62  0.08   1.9    0.068   28.0   38.0  0.99651  3.42    0.82   \n",
       "4  7.9  0.58  0.23   2.3    0.076   23.0   94.0  0.99686  3.21    0.58   \n",
       "\n",
       "   アルコール度数  評価  \n",
       "0      9.5   0  \n",
       "1      8.8   0  \n",
       "2      9.4   0  \n",
       "3      9.5   0  \n",
       "4      9.5   0  "
      ]
     },
     "execution_count": 4,
     "metadata": {},
     "output_type": "execute_result"
    }
   ],
   "source": [
    "df.head()"
   ]
  },
  {
   "cell_type": "markdown",
   "metadata": {},
   "source": [
    "#### データの可視化"
   ]
  },
  {
   "cell_type": "code",
   "execution_count": 3,
   "metadata": {
    "scrolled": true
   },
   "outputs": [
    {
     "data": {
      "image/png": "[encoded data removed]",
      "text/plain": [
       "<matplotlib.figure.Figure at 0x10fdb14e0>"
      ]
     },
     "metadata": {},
     "output_type": "display_data"
    }
   ],
   "source": [
    "# グラフにプロットしてみよう\n",
    "import matplotlib.pyplot as plt\n",
    "\n",
    "# 高評価ワインのデータのみ取得\n",
    "df1 = df[df['評価'] == 1]\n",
    "# 低評価ワインのデータのみ取得\n",
    "df0 = df[df['評価'] == 0]\n",
    "\n",
    "plt.scatter(df1[\"酢酸\"], df1[\"クエン酸\"], color='red')\n",
    "plt.scatter(df0[\"酢酸\"], df0[\"クエン酸\"], color='blue')\n",
    "plt.show()"
   ]
  },
  {
   "cell_type": "markdown",
   "metadata": {},
   "source": [
    "#### df.ilocというデータから値を取り出す\n",
    "---\n",
    "元になるデータセットから特徴行列Xと目的変数yを取り出したい。\n",
    "今まではpandasのDataFrameで列の値を抽出するには、\n",
    "\n",
    "** df[[\"アルコール度数\",\"密度\"]] **　のようにカラム名を指定した。\n",
    "しかし、11種類もある名前を列挙するのは面倒である。\n",
    "\n",
    "df.liocからアクセスすれば、行と列の数字（インデックス番号）からデータフレームを取り出すことができる\n",
    "\n",
    "---\n",
    "[取り出す行, 取り出す列]を指定する\n",
    "[: , :-1]は「行の全て、列は初めから最後ひとつ前まで」という意味\n",
    "→最後の列は「評価」であるため\n"
   ]
  },
  {
   "cell_type": "code",
   "execution_count": 4,
   "metadata": {
    "collapsed": true
   },
   "outputs": [],
   "source": [
    "X = df.iloc[:, :-1].values\n",
    "y = df.iloc[:, -1].values"
   ]
  },
  {
   "cell_type": "markdown",
   "metadata": {},
   "source": [
    "#### データをトレーニング用、評価用に分割"
   ]
  },
  {
   "cell_type": "code",
   "execution_count": 5,
   "metadata": {
    "collapsed": true
   },
   "outputs": [],
   "source": [
    "from sklearn.model_selection import train_test_split\n",
    "(X_train, X_test,\n",
    " y_train, y_test) = train_test_split(\n",
    "    X, y, test_size=0.3, random_state=0,\n",
    ")"
   ]
  },
  {
   "cell_type": "markdown",
   "metadata": {},
   "source": [
    "#### データの分割　train_test_aprit\n",
    "---\n",
    "データセットから取り出した X y をさらに、「トレーニング用」と「テスト用」にデータ分割します。\n",
    "\n",
    "データセットの全てを使って学習（トレーニング）して、同じデータでテストをしては意味がありません。\n",
    "テストの答えを元に分類器が学習してしまうので、不用意にスコアが高くなってしまいます。\n",
    "\n",
    "それを避けるために、ここで train_test_split 関数を使ってデータ分割をしています。\n",
    "train_test_split 関数はデータをランダムに、好きの割合で分割できる便利な関数です。\n",
    "\n",
    "---\n",
    "* X_train, X_test, y_train, y_testの４種類に分ける\n",
    "    - トレーニング用\n",
    "        - 特徴行列\n",
    "        - 目的変数\n",
    "    - テスト用\n",
    "        - 特徴行列\n",
    "        - 目的変数\n",
    "\n",
    "(X_train, X_test,\n",
    " y_train, y_test) = train_test_split(\n",
    "    X, y, test_size=0.3, random_state=0,\n",
    ")\n",
    "\n",
    "* test-size= テスト用データの割合\n",
    "* random_state= データを分割する際の乱数のシード値\n",
    "    - 同じ結果が返るように0を指定しているが、普段はしていない"
   ]
  },
  {
   "cell_type": "markdown",
   "metadata": {},
   "source": [
    "#### sklearnで分類器をインポート"
   ]
  },
  {
   "cell_type": "code",
   "execution_count": 7,
   "metadata": {
    "collapsed": true
   },
   "outputs": [],
   "source": [
    "from sklearn.linear_model import LogisticRegression"
   ]
  },
  {
   "cell_type": "markdown",
   "metadata": {},
   "source": [
    "#### 分類器を初期化する\n",
    "---\n",
    "#### ハイパーパラメータC\n",
    "モデルの過学習を防ぐ、** 逆正則化パラメータ **\n",
    "\n",
    "Cの値が大きければ大きいほど過学習に陥りやすい。しかし、小さすぎると学習にならない。C=1000が最適な値かどうかもわからない。\n",
    "\n",
    "学習モデルによって、ハイパーパラメータの種類や量は異なる。"
   ]
  },
  {
   "cell_type": "code",
   "execution_count": 8,
   "metadata": {
    "collapsed": true
   },
   "outputs": [],
   "source": [
    "lr = LogisticRegression(C=1000)"
   ]
  },
  {
   "cell_type": "markdown",
   "metadata": {},
   "source": [
    "#### トレーニングデータで学習する\n",
    "---\n",
    "lr.fit()で特徴行列と目的変数で学習"
   ]
  },
  {
   "cell_type": "code",
   "execution_count": 9,
   "metadata": {},
   "outputs": [
    {
     "data": {
      "text/plain": [
       "LogisticRegression(C=1000, class_weight=None, dual=False, fit_intercept=True,\n",
       "          intercept_scaling=1, max_iter=100, multi_class='ovr', n_jobs=1,\n",
       "          penalty='l2', random_state=None, solver='liblinear', tol=0.0001,\n",
       "          verbose=0, warm_start=False)"
      ]
     },
     "execution_count": 9,
     "metadata": {},
     "output_type": "execute_result"
    }
   ],
   "source": [
    "lr.fit(X_train, y_train)"
   ]
  },
  {
   "cell_type": "markdown",
   "metadata": {},
   "source": [
    "#### テストデータでスコア測定\n",
    "---\n",
    "lr.scor()でデータを元にスコアを0~1で返す"
   ]
  },
  {
   "cell_type": "code",
   "execution_count": 10,
   "metadata": {},
   "outputs": [
    {
     "data": {
      "text/plain": [
       "0.83333333333333337"
      ]
     },
     "execution_count": 10,
     "metadata": {},
     "output_type": "execute_result"
    }
   ],
   "source": [
    "lr.score(X_test, y_test)"
   ]
  },
  {
   "cell_type": "markdown",
   "metadata": {},
   "source": [
    "** 結果 **　正答率83.3%"
   ]
  },
  {
   "cell_type": "code",
   "execution_count": null,
   "metadata": {
    "collapsed": true
   },
   "outputs": [],
   "source": []
  }
 ],
 "metadata": {
  "kernelspec": {
   "display_name": "Python 3",
   "language": "python",
   "name": "python3"
  },
  "language_info": {
   "codemirror_mode": {
    "name": "ipython",
    "version": 3
   },
   "file_extension": ".py",
   "mimetype": "text/x-python",
   "name": "python",
   "nbconvert_exporter": "python",
   "pygments_lexer": "ipython3",
   "version": "3.6.3"
  }
 },
 "nbformat": 4,
 "nbformat_minor": 2
}
